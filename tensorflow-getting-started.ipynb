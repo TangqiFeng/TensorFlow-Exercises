{
 "cells": [
  {
   "cell_type": "markdown",
   "metadata": {},
   "source": [
    "# Getting started with TensorFlow\n",
    "\n",
    "This is taken from [Getting Started with TensorFlow ](https://www.tensorflow.org/get_started/get_started).\n",
    "It covers the basic use of TensorFlow at its most basic level."
   ]
  },
  {
   "cell_type": "markdown",
   "metadata": {},
   "source": [
    "#### Importing TensorFlow\n",
    "- TensorFlow is Python library.\n",
    "- Python libraries are imported using an `import` statement.\n",
    "- The things in TensorFlow must then be prefixed with `tensorflow`, e.g. `tensorflow.constant()`.\n",
    "- To save us some typing we can include an `as` clause to the `import` statement, giving e.g. `tf.constant()`."
   ]
  },
  {
   "cell_type": "code",
   "execution_count": 1,
   "metadata": {},
   "outputs": [],
   "source": [
    "import tensorflow as tf"
   ]
  },
  {
   "attachments": {
    "join_reg.png": {
     "image/png": "[encoded data removed]"
    }
   },
   "cell_type": "markdown",
   "metadata": {},
   "source": [
    "#### Data flow graphs\n",
    "\n",
    "- TensorFlow thinks of computations as graphs.\n",
    "- Starting nodes of the graph are data sources.\n",
    "- Intermediate nodes are operations.\n",
    "- Ending nodes are data outputs.\n",
    "\n",
    "![join_reg.png](attachment:join_reg.png)"
   ]
  },
  {
   "cell_type": "markdown",
   "metadata": {},
   "source": [
    "#### Creating data nodes\n",
    "\n",
    "- We create nodes using functions like `tf.constant()`.\n",
    "- They're just placeholders, until we `run` the graph later."
   ]
  },
  {
   "cell_type": "code",
   "execution_count": 2,
   "metadata": {},
   "outputs": [
    {
     "name": "stdout",
     "output_type": "stream",
     "text": [
      "Tensor(\"Const:0\", shape=(), dtype=float32) Tensor(\"Const_1:0\", shape=(), dtype=float32)\n"
     ]
    }
   ],
   "source": [
    "node1 = tf.constant(3.0, dtype=tf.float32)\n",
    "node2 = tf.constant(4.0) # also tf.float32 implicitly\n",
    "print(node1, node2)"
   ]
  },
  {
   "cell_type": "markdown",
   "metadata": {},
   "source": [
    "#### Running the session\n",
    "\n",
    "- We create a session, which encapsulates an execution of the graph, creating a scope.\n",
    "- Then we run the graph in the session.\n",
    "- It's not very interesting, our graph just contains two separate, unconnected nodes."
   ]
  },
  {
   "cell_type": "code",
   "execution_count": 3,
   "metadata": {},
   "outputs": [
    {
     "name": "stdout",
     "output_type": "stream",
     "text": [
      "[3.0, 4.0]\n"
     ]
    }
   ],
   "source": [
    "sess = tf.Session()\n",
    "print(sess.run([node1, node2]))"
   ]
  },
  {
   "attachments": {
    "tf_add.png": {
     "image/png": "[encoded data removed]"
    }
   },
   "cell_type": "markdown",
   "metadata": {},
   "source": [
    "#### Perform an operation\n",
    "- Here we create an `add` node that adds its inputs.\n",
    "- We tell it to use `node1` and `node2` as input.\n",
    "- We now have three nodes, two containing constant numbers with data flowing from these to the third node which adds them.\n",
    "\n",
    "![tf_add.png](attachment:tf_add.png)"
   ]
  },
  {
   "cell_type": "code",
   "execution_count": 4,
   "metadata": {},
   "outputs": [
    {
     "name": "stdout",
     "output_type": "stream",
     "text": [
      "node3: Tensor(\"Add:0\", shape=(), dtype=float32)\n",
      "sess.run(node3): 7.0\n"
     ]
    }
   ],
   "source": [
    "node3 = tf.add(node1, node2)\n",
    "print(\"node3:\", node3)\n",
    "print(\"sess.run(node3):\", sess.run(node3))"
   ]
  },
  {
   "cell_type": "markdown",
   "metadata": {},
   "source": [
    "#### Placeholder nodes\n",
    "- Constants are fine, but what if we want to use variables?\n",
    "- We use `tf.placeholder()`."
   ]
  },
  {
   "cell_type": "code",
   "execution_count": 5,
   "metadata": {},
   "outputs": [],
   "source": [
    "a = tf.placeholder(tf.float32)\n",
    "b = tf.placeholder(tf.float32)\n",
    "adder_node = a + b  # + provides a shortcut for tf.add(a, b)"
   ]
  },
  {
   "cell_type": "markdown",
   "metadata": {},
   "source": [
    "Now when we run the graph we supply the values of the placeholders."
   ]
  },
  {
   "cell_type": "code",
   "execution_count": 6,
   "metadata": {},
   "outputs": [
    {
     "name": "stdout",
     "output_type": "stream",
     "text": [
      "7.5\n",
      "[ 3.  7.]\n"
     ]
    }
   ],
   "source": [
    "print(sess.run(adder_node, {a: 3, b: 4.5}))\n",
    "print(sess.run(adder_node, {a: [1, 3], b: [2, 4]}))"
   ]
  },
  {
   "cell_type": "markdown",
   "metadata": {},
   "source": [
    "#### Implicit nodes\n",
    "- TensorFlow is clever when it comes to syntax.\n",
    "- We can create a fourth node that triples the value from `adder_node` implicitly.\n",
    "- Think of this as operator overloading."
   ]
  },
  {
   "cell_type": "code",
   "execution_count": 7,
   "metadata": {},
   "outputs": [
    {
     "name": "stdout",
     "output_type": "stream",
     "text": [
      "22.5\n"
     ]
    }
   ],
   "source": [
    "add_and_triple = adder_node * 3.0\n",
    "print(sess.run(add_and_triple, {a: 3, b: 4.5}))"
   ]
  },
  {
   "cell_type": "markdown",
   "metadata": {},
   "source": [
    "## Linear models with gradient descent\n",
    "- Let's have a quick look at doing something more complicated with TensorFlow.\n",
    "- We'll try to estimate the best line that fits the following data.\n",
    "- You can probably guess that the best line should have slope -1 and intercept 1.\n",
    "- Let's get TensorFlow to use a complicated algorithm to estimate this!"
   ]
  },
  {
   "cell_type": "code",
   "execution_count": 8,
   "metadata": {},
   "outputs": [
    {
     "data": {
      "image/png": "[encoded data removed]",
      "text/plain": [
       "<matplotlib.figure.Figure at 0x7f6a8449f4a8>"
      ]
     },
     "metadata": {},
     "output_type": "display_data"
    }
   ],
   "source": [
    "import matplotlib.pyplot as pl\n",
    "\n",
    "x_vals = [1, 2, 3, 4]\n",
    "y_vals = [0, -1, -2, -3]\n",
    "\n",
    "pl.plot(x_vals, y_vals, '.')\n",
    "pl.show()"
   ]
  },
  {
   "cell_type": "markdown",
   "metadata": {},
   "source": [
    "#### Initialise some nodes\n",
    "- We'll create two values with guess values to start.\n",
    "- The first is `W`, and this will be the slope of the line.\n",
    "- The second is `b` and this will be the value of `y` when `x` is zero (the intercept).\n",
    "- We'll create a placeholder for our x values, called `x`.\n",
    "- Then we'll create a \"function\" which multiplies the placeholder `x` by `W` (which is 0.3 to start) and then adds `b` (which is -0.3 to start)."
   ]
  },
  {
   "cell_type": "code",
   "execution_count": 9,
   "metadata": {},
   "outputs": [],
   "source": [
    "W = tf.Variable([.3], dtype=tf.float32)\n",
    "b = tf.Variable([-.3], dtype=tf.float32)\n",
    "x = tf.placeholder(tf.float32)\n",
    "linear_model = W * x + b"
   ]
  },
  {
   "cell_type": "markdown",
   "metadata": {},
   "source": [
    "#### The goal\n",
    "- Our goal will be to adjust `W` and `b` so that when we perform this \"function\" on our x values we get outputs that are close to our y values.\n",
    "- Then `W` and `b` are good fits for our data.\n",
    "- Let's get the session running."
   ]
  },
  {
   "cell_type": "code",
   "execution_count": 10,
   "metadata": {},
   "outputs": [
    {
     "name": "stdout",
     "output_type": "stream",
     "text": [
      "[ 0.          0.30000001  0.60000002  0.90000004]\n"
     ]
    }
   ],
   "source": [
    "init = tf.global_variables_initializer()\n",
    "sess.run(init)\n",
    "\n",
    "print(sess.run(linear_model, {x: [1, 2, 3, 4]}))"
   ]
  },
  {
   "cell_type": "markdown",
   "metadata": {},
   "source": [
    "#### Bad predictions\n",
    "- Currently our predictions are not very good.\n",
    "- We want the above values (`(W * x) + b`) to be close to our y value `[0, -1, -2, -3]`.\n",
    "- To improve them, we must somehow quantify how bad our predictions are.\n",
    "- The typical way to do this is to subtract our predictions from what we know the values should be, square each of those values and add them together. We call this *the sum of the squares*.\n",
    "- Note a key idea here: we must *know* in advance what some of the `y` values should be. This is the *supervised* part of supervised learning. It's like we're teaching the model by giving it feedback on a test we give it.\n",
    "- Let's tell TensorFlow how to quantify how bad the model is."
   ]
  },
  {
   "cell_type": "code",
   "execution_count": 11,
   "metadata": {},
   "outputs": [
    {
     "name": "stdout",
     "output_type": "stream",
     "text": [
      "23.66\n"
     ]
    }
   ],
   "source": [
    "y = tf.placeholder(tf.float32)\n",
    "squared_deltas = tf.square(linear_model - y)\n",
    "loss = tf.reduce_sum(squared_deltas)\n",
    "print(sess.run(loss, {x: [1, 2, 3, 4], y: [0, -1, -2, -3]}))"
   ]
  },
  {
   "cell_type": "markdown",
   "metadata": {},
   "source": [
    "#### Perfect fit\n",
    "- Let's compare that loss to what we know is the perfect fit model, when `W` is -1 and `b` is 1.\n",
    "- We can use the `tf.assign` function to temporarily assign these values.\n",
    "- The loss is 0 then, as expected.\n",
    "- Any other values for `W` and `b` will move the loss away from 0.\n",
    "- Question: can the loss be less than 0?"
   ]
  },
  {
   "cell_type": "code",
   "execution_count": 12,
   "metadata": {},
   "outputs": [
    {
     "name": "stdout",
     "output_type": "stream",
     "text": [
      "0.0\n"
     ]
    }
   ],
   "source": [
    "fixW = tf.assign(W, [-1.])\n",
    "fixb = tf.assign(b, [1.])\n",
    "sess.run([fixW, fixb])\n",
    "print(sess.run(loss, {x: [1, 2, 3, 4], y: [0, -1, -2, -3]}))"
   ]
  },
  {
   "cell_type": "markdown",
   "metadata": {},
   "source": [
    "#### Optimisation\n",
    "- Optimisation can be tricky, and there is a lot of theoretical stuff to go through.\n",
    "- Luckily TensorFlow comes with built-in optimisation methods.\n",
    "- You must understand how optimisations work to do them right.\n",
    "- For now, let's just give them a whirl in the knowledge that they're more complex.\n",
    "- One of the most popular optimisation methods is gradient descent, based on calculus.\n",
    "- It works by making small changes in the parameters (`W` and `b`) in the right direction."
   ]
  },
  {
   "cell_type": "code",
   "execution_count": 13,
   "metadata": {},
   "outputs": [],
   "source": [
    "optimizer = tf.train.GradientDescentOptimizer(0.01)\n",
    "train = optimizer.minimize(loss)"
   ]
  },
  {
   "cell_type": "markdown",
   "metadata": {},
   "source": [
    "#### Running the optimisation\n",
    "- We run the optimiser 1000 times.\n",
    "- With each iteration the values are getting closer and closer to some optimum."
   ]
  },
  {
   "cell_type": "code",
   "execution_count": 14,
   "metadata": {},
   "outputs": [
    {
     "name": "stdout",
     "output_type": "stream",
     "text": [
      "[array([-0.9999969], dtype=float32), array([ 0.99999082], dtype=float32), 5.6999738e-11]\n"
     ]
    }
   ],
   "source": [
    "sess.run(init) # reset values to incorrect defaults.\n",
    "for i in range(1000):\n",
    "  sess.run(train, {x: [1, 2, 3, 4], y: [0, -1, -2, -3]})\n",
    "\n",
    "print(sess.run([W, b, loss], {x: [1, 2, 3, 4], y: [0, -1, -2, -3]}))"
   ]
  },
  {
   "cell_type": "markdown",
   "metadata": {},
   "source": [
    "#### Visualise\n",
    "Let's have a look at our fitted line (in red) compared the actual line (in blue)."
   ]
  },
  {
   "cell_type": "code",
   "execution_count": 15,
   "metadata": {},
   "outputs": [
    {
     "data": {
      "image/png": "[encoded data removed]",
      "text/plain": [
       "<matplotlib.figure.Figure at 0x7f6a4426af28>"
      ]
     },
     "metadata": {},
     "output_type": "display_data"
    }
   ],
   "source": [
    "import numpy as np\n",
    "\n",
    "W_est = W.eval(sess)\n",
    "b_est = b.eval(sess)\n",
    "\n",
    "x_vals = np.array([1, 2, 3, 4])\n",
    "y_vals = np.array([0, -1, -2, -3])\n",
    "\n",
    "pl.plot(x_vals, y_vals, 'ko')\n",
    "pl.plot(x_vals, -1.0  * x_vals + 1.0,   'b-')\n",
    "pl.plot(x_vals, W_est * x_vals + b_est, 'r-')\n",
    "\n",
    "pl.show()"
   ]
  },
  {
   "cell_type": "markdown",
   "metadata": {},
   "source": [
    "#### End"
   ]
  }
 ],
 "metadata": {
  "kernelspec": {
   "display_name": "Python 3",
   "language": "python",
   "name": "python3"
  },
  "language_info": {
   "codemirror_mode": {
    "name": "ipython",
    "version": 3
   },
   "file_extension": ".py",
   "mimetype": "text/x-python",
   "name": "python",
   "nbconvert_exporter": "python",
   "pygments_lexer": "ipython3",
   "version": "3.5.2"
  }
 },
 "nbformat": 4,
 "nbformat_minor": 2
}
