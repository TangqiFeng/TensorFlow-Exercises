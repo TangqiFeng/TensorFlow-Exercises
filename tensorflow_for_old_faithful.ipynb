{
 "cells": [
  {
   "cell_type": "markdown",
   "metadata": {},
   "source": [
    "### Importing TensorFlow , numpy and matplotlib"
   ]
  },
  {
   "cell_type": "code",
   "execution_count": 1,
   "metadata": {},
   "outputs": [],
   "source": [
    "import tensorflow as tf\n",
    "import numpy as np\n",
    "import matplotlib.pyplot as pl"
   ]
  },
  {
   "cell_type": "markdown",
   "metadata": {},
   "source": [
    "### load data "
   ]
  },
  {
   "cell_type": "code",
   "execution_count": 2,
   "metadata": {},
   "outputs": [],
   "source": [
    "eruptions,waiting = np.loadtxt('original.csv', usecols=(0,1), delimiter=',', skiprows=1, unpack=True)\n",
    "with open(\"original.csv\", \"r\") as f:\n",
    "    data = np.loadtxt(f, delimiter=',', skiprows=1)\n",
    "    x,y = data.transpose()"
   ]
  },
  {
   "cell_type": "markdown",
   "metadata": {},
   "source": [
    "### show plot (point)"
   ]
  },
  {
   "cell_type": "code",
   "execution_count": 3,
   "metadata": {},
   "outputs": [
    {
     "data": {
      "image/png": "[encoded data removed]",
      "text/plain": [
       "<matplotlib.figure.Figure at 0x7f7ed164d6d8>"
      ]
     },
     "metadata": {},
     "output_type": "display_data"
    }
   ],
   "source": [
    "pl.plot(eruptions, waiting, '.')\n",
    "pl.show()"
   ]
  },
  {
   "cell_type": "markdown",
   "metadata": {},
   "source": [
    "### initial some nodes"
   ]
  },
  {
   "cell_type": "code",
   "execution_count": 4,
   "metadata": {},
   "outputs": [],
   "source": [
    "w = tf.Variable([.3])\n",
    "b = tf.Variable([-.3])\n",
    "x = tf.placeholder(tf.float32)\n",
    "linear_model = w * x + b"
   ]
  },
  {
   "cell_type": "code",
   "execution_count": 5,
   "metadata": {},
   "outputs": [
    {
     "name": "stdout",
     "output_type": "stream",
     "text": [
      "[ 0.78000003  0.24000001  0.69990003  0.38490003  1.05990005  0.56489998\n",
      "  1.1099999   0.78000003  0.28500003  1.00500011  0.24989998  0.87510008\n",
      "  0.95999998  0.22500002  1.1099999   0.35010004  0.22500002  1.1400001\n",
      "  0.18000001  0.97500008  0.24000001  0.22500002  0.73500007  0.62010002\n",
      "  1.05990005  0.78000003  0.29010004  0.92490011  0.85499996  1.02990007\n",
      "  0.99000007  1.0401001   0.71010011  0.90990001  0.84990007  0.30510002\n",
      "  0.26010001  1.1499002   0.24989998  1.13490009  1.00500011  0.26490003\n",
      "  1.07010007  0.22500002  1.05990005  0.69510001  0.84990007  0.32999998\n",
      "  1.08990002  0.30000001  1.1400001   1.11479998  0.24989998  1.1499002\n",
      "  0.21990001  1.16490006  0.81510001  0.2001      1.07010007  0.99509996\n",
      "  0.36990005  1.04999995  0.22500002  1.1400001   0.24510002  1.01999998\n",
      "  0.9501      1.1099999   0.32010001  1.1099999   0.90990001  0.29010004\n",
      "  1.04999995  0.90000004  0.2949      1.22009993  0.30510002  1.07010007\n",
      "  0.86490005  0.78000003  0.93989998  0.99990004  0.93000001  0.48989999\n",
      "  0.92010003  1.17990017  0.88500005  1.0551002   0.35010004  0.90000004\n",
      "  0.36000001  0.99990004  0.26010001  1.14510012  0.24989998  0.99000007\n",
      "  1.10010004  0.82499999  0.26010001  1.17000008  0.44490004  1.01010013\n",
      "  0.32999998  1.04999995  0.91500014  0.26010001  1.1099999   0.2349\n",
      "  1.15499997  0.80490011  1.11989999  0.38999999  1.17000008  1.02509999\n",
      "  0.21000004  1.08990002  0.3951      1.07999992  0.24510002  1.02509999\n",
      "  0.48510003  0.92010003  0.97500008  0.29010004  1.07999992  0.8301\n",
      "  0.27510005  1.04999995  0.38010001  1.09500003  0.26010001  0.9501\n",
      "  0.54000002  0.99990004  0.24989998  1.01489997  0.26490003  1.17990017\n",
      "  0.30989999  0.8199001   0.96989995  0.36990005  1.05990005  1.14510012\n",
      "  0.99990004  0.2949      1.08990002  0.30510002  1.23000002  0.24000001\n",
      "  1.20990014  0.90000004  0.42000002  1.07999992  0.77010006  0.90000004\n",
      "  1.04999995  0.92490011  0.24000001  0.89010006  0.36000001  0.94500011\n",
      "  0.30000001  0.84990007  0.75000006  1.07490015  0.41010004  1.20000005\n",
      "  0.27990001  1.08510017  0.27510005  0.32489997  1.07490015  0.69990003\n",
      "  0.9501      0.99990004  1.04999995  0.42510003  0.90000004  0.9501\n",
      "  0.26490003  1.07490015  0.97500008  0.8301      0.30989999  1.02990007\n",
      "  0.92490011  0.24989998  1.02509999  0.35490006  1.1400001   0.24989998\n",
      "  1.1400001   0.93000001  0.88980001  0.96989995  0.75000006  1.0098002\n",
      "  0.375       1.10010004  0.32999998  1.00500011  0.93989998  0.26010001\n",
      "  1.07999992  0.2349      1.01010013  0.85499996  0.27990001  1.04999995\n",
      "  0.4149      1.1099999   0.26010001  0.84990007  0.7251001   0.96989995\n",
      "  0.42000002  1.1400001   0.30000001  0.94500011  0.26010001  0.9801001\n",
      "  0.22500002  1.04489994  0.90000004  0.93510002  0.92490011  0.9801001\n",
      "  0.87510008  1.06500006  0.92490011  0.42510003  0.95490009  0.36510003\n",
      "  1.03500009  0.26490003  0.255       0.98490006  0.88500005  0.39990002\n",
      "  0.94500011  0.40499997  1.17990017  0.57000005  1.07490015  0.84990007\n",
      "  0.32489997  1.01010013  0.33989996  1.00500011  0.36000001  1.03500009\n",
      "  0.77010006  1.04999995  0.94500011  0.84509999  0.87510008  1.03500009\n",
      "  0.30000001  0.98490006  1.13010001  1.05990005  0.255       0.97500008\n",
      "  0.2949      0.375       1.125       0.93510002  0.34500003  1.02509999\n",
      "  0.24510002  1.0401001 ]\n"
     ]
    }
   ],
   "source": [
    "sess = tf.Session()\n",
    "init = tf.global_variables_initializer()\n",
    "sess.run(init)\n",
    "print(sess.run(linear_model, {x: eruptions}))"
   ]
  },
  {
   "cell_type": "code",
   "execution_count": 6,
   "metadata": {},
   "outputs": [
    {
     "name": "stdout",
     "output_type": "stream",
     "text": [
      "1.38639e+06\n"
     ]
    }
   ],
   "source": [
    "y = tf.placeholder(tf.float32)\n",
    "squared_deltas = tf.square(linear_model - y)\n",
    "cost = tf.reduce_sum(squared_deltas)\n",
    "print(sess.run(cost, {x: eruptions, y: waiting}))"
   ]
  },
  {
   "cell_type": "code",
   "execution_count": 7,
   "metadata": {},
   "outputs": [],
   "source": [
    "optimizer = tf.train.GradientDescentOptimizer(0.00001)\n",
    "train = optimizer.minimize(cost)"
   ]
  },
  {
   "cell_type": "code",
   "execution_count": 8,
   "metadata": {},
   "outputs": [
    {
     "name": "stdout",
     "output_type": "stream",
     "text": [
      "[array([ 17.94443893], dtype=float32), array([ 5.79117203], dtype=float32), 29546.984]\n"
     ]
    }
   ],
   "source": [
    "sess.run(init) # reset values to incorrect defaults.\n",
    "for i in range(100):\n",
    "  sess.run(train, {x: eruptions, y: waiting})\n",
    "\n",
    "print(sess.run([w, b, cost], {x: eruptions, y: waiting}))"
   ]
  },
  {
   "cell_type": "code",
   "execution_count": 11,
   "metadata": {},
   "outputs": [
    {
     "data": {
      "image/png": "[encoded data removed]",
      "text/plain": [
       "<matplotlib.figure.Figure at 0x7f7ecc60bb38>"
      ]
     },
     "metadata": {},
     "output_type": "display_data"
    }
   ],
   "source": [
    "i = np.linspace(0,8,1000)\n",
    "j = w.eval(sess)[0]\n",
    "k = b.eval(sess)[0]\n",
    "l = j * i + k\n",
    "pl.plot(eruptions,waiting,'k.')\n",
    "pl.plot(i,l,'b-')\n",
    "pl.show()"
   ]
  },
  {
   "cell_type": "code",
   "execution_count": null,
   "metadata": {},
   "outputs": [],
   "source": [
    "np.polyfit()"
   ]
  },
  {
   "cell_type": "code",
   "execution_count": 13,
   "metadata": {},
   "outputs": [
    {
     "data": {
      "text/plain": [
       "array([ 17.94443893], dtype=float32)"
      ]
     },
     "execution_count": 13,
     "metadata": {},
     "output_type": "execute_result"
    }
   ],
   "source": [
    "w.eval(sess)"
   ]
  },
  {
   "cell_type": "code",
   "execution_count": null,
   "metadata": {},
   "outputs": [],
   "source": []
  }
 ],
 "metadata": {
  "kernelspec": {
   "display_name": "Python 3",
   "language": "python",
   "name": "python3"
  },
  "language_info": {
   "codemirror_mode": {
    "name": "ipython",
    "version": 3
   },
   "file_extension": ".py",
   "mimetype": "text/x-python",
   "name": "python",
   "nbconvert_exporter": "python",
   "pygments_lexer": "ipython3",
   "version": "3.5.2"
  }
 },
 "nbformat": 4,
 "nbformat_minor": 2
}
